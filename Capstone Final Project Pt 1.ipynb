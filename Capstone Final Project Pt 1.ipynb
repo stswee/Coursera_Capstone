{
    "nbformat_minor": 1, 
    "cells": [
        {
            "source": "Introduction/Business Problem:\n\nRecent research has shown that with the increased consumption of bubble tea, sugar consumption has skyrocketed. As a response, a company has produced a sugar substitute for bubble tea, deeming the substitute to be healthier while providing the same taste. The company has the necessary production facilities to mass produce this substitute. However, to facilitate costs, the company has decided to build \"sugar hubs,\" central locations in cities where other bubble tea sellers can pick up the sugar substitute. In other words, the company will ship its sugar substitute to only these sugar hubs and nowhere else, even if a bubble tea company is closer to the production facilities. The company is currently interested in developing the sugar hubs in either Boston, Massachusetts, or in Los Angeles, California. The company wants to set up three sugar hubs and serve as many bubble tea sellers as possible. \n\nIn short, the company wants to find out that between Boston and Los Angeles, which place is better to set up three sugar hubs? ", 
            "cell_type": "markdown", 
            "metadata": {
                "collapsed": true
            }
        }, 
        {
            "source": "Data and Methods:\n\nThe data that will be used in this project is the locations of bubble tea stores in Boston and Los Angeles. The approach to this problem is to find the three most centralized locations of the bubble tea stores in both cities and to count the number of bubble tea stores within a 5 mile radius. ", 
            "cell_type": "markdown", 
            "metadata": {}
        }
    ], 
    "nbformat": 4, 
    "metadata": {
        "kernelspec": {
            "display_name": "Python 3.6", 
            "name": "python3", 
            "language": "python"
        }, 
        "language_info": {
            "mimetype": "text/x-python", 
            "nbconvert_exporter": "python", 
            "version": "3.6.8", 
            "name": "python", 
            "pygments_lexer": "ipython3", 
            "file_extension": ".py", 
            "codemirror_mode": {
                "version": 3, 
                "name": "ipython"
            }
        }
    }
}